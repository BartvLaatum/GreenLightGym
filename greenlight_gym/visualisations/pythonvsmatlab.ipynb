{
 "cells": [
  {
   "cell_type": "markdown",
   "id": "175198ff",
   "metadata": {},
   "source": [
    "# Script to create python and matlab comparison"
   ]
  },
  {
   "cell_type": "code",
   "execution_count": null,
   "id": "46a01165",
   "metadata": {},
   "outputs": [],
   "source": [
    "import pandas as pd\n",
    "import matplotlib.pyplot as plt\n",
    "import numpy as np\n",
    "import cmcrameri.cm as cm\n"
   ]
  },
  {
   "cell_type": "code",
   "execution_count": null,
   "id": "b6c7eafd-4195-475f-accb-6f4be38a7601",
   "metadata": {},
   "outputs": [],
   "source": [
    "### Latex font in plots\n",
    "plt.rcParams['font.serif'] = \"cmr10\"\n",
    "plt.rcParams['font.family'] = \"serif\"\n",
    "plt.rcParams['font.size'] = 24\n",
    "\n",
    "plt.rcParams['legend.fontsize'] = 24\n",
    "plt.rcParams['legend.loc'] = 'upper right'\n",
    "plt.rcParams['axes.labelsize'] = 24\n",
    "plt.rcParams['axes.formatter.use_mathtext'] = True\n",
    "plt.rcParams['xtick.labelsize'] = 24\n",
    "plt.rcParams['ytick.labelsize'] = 24\n",
    "plt.rcParams['text.usetex'] = False\n",
    "plt.rcParams['mathtext.fontset'] = 'cm'\n",
    "plt.rcParams[\"axes.grid\"] = False\n",
    "plt.rcParams['svg.fonttype'] = 'none'\n",
    "plt.rcParams['axes.linewidth'] = 2   # Default for all spines\n",
    "plt.rcParams['axes.spines.top'] = False\n",
    "plt.rcParams['axes.spines.right'] = False\n",
    "# plt.rcParams['text.usetex'] = True\n",
    "plt.rcParams['xtick.major.size'] = 6  # Thicker major x-ticks\n",
    "plt.rcParams['xtick.major.width'] = 2  # Thicker major x-\n",
    "plt.rcParams['ytick.major.size'] = 6  \n",
    "plt.rcParams['ytick.major.width'] = 2 \n",
    "plt.rc('axes', unicode_minus=False)\n"
   ]
  },
  {
   "cell_type": "markdown",
   "id": "d6345f7d",
   "metadata": {},
   "source": [
    "### 1. Helper functions to load in data & compute statisitics"
   ]
  },
  {
   "cell_type": "code",
   "execution_count": null,
   "id": "16294f8a",
   "metadata": {},
   "outputs": [],
   "source": [
    "def load_data(step_size, variable_names, var_type, date, solver_type, n_days, order):\n",
    "    '''\n",
    "    Loads in the data from the matlab and python simulations.\n",
    "    The states from the python simulation are stored together with the controls.\n",
    "    The states from the matlab simulation are stored in seperate csv file.\n",
    "    '''\n",
    "    matlab_variables = pd.read_csv(f\"../data/model-comparison/matlab/{step_size}StepSize{var_type}{date}{n_days}{solver_type}.csv\", sep=\",\", header=None)[:]\n",
    "    python_variables = pd.read_csv(f\"../data/model-comparison/python/{step_size}StepSizeResults{date}{n_days}{solver_type}{order}.csv\", sep=\",\")[:]\n",
    "    matlab_variables.columns = variable_names\n",
    "    return matlab_variables, python_variables\n",
    "\n",
    "def rRMSE(predictions: np.ndarray | float, truth: np.ndarray | float) -> np.ndarray | float:\n",
    "    '''\n",
    "    Function to compute the relate root mean square error (rRMSE).\n",
    "    Between predictions and true values.\n",
    "    Arguments:\n",
    "        predictions: (np.ndarray | float) of  predictions\n",
    "        truth: (np.ndarray | float) of true values\n",
    "    Returns:\n",
    "        rRMSE: (np.ndarray | float)\n",
    "    '''\n",
    "    return np.sqrt(sum((truth-predictions)**2)/truth.shape[0])/abs(truth.mean())*100\n",
    "\n",
    "def RMSE(predictions, truth):\n",
    "    '''\n",
    "    Function to compute the root mean square error.\n",
    "    '''\n",
    "    return np.sqrt(sum((truth-predictions)**2)/truth.shape[0])\n",
    "\n",
    "def confidence_interval(data, confidence=1.96):\n",
    "    '''\n",
    "    Function to compute the confidence interval of the data.\n",
    "    '''\n",
    "    n = data.shape[0]\n",
    "    m, se = np.mean(data, axis=0), np.std(data, axis=0)\n",
    "    h = se * confidence / np.sqrt(n)\n",
    "    return h\n"
   ]
  },
  {
   "cell_type": "markdown",
   "id": "6e6ab97e",
   "metadata": {},
   "source": [
    "### 2. Variables names"
   ]
  },
  {
   "cell_type": "code",
   "execution_count": null,
   "id": "5a2823ce",
   "metadata": {
    "scrolled": true
   },
   "outputs": [],
   "source": [
    "step_sizes = [\"0.5s\", \"1.0s\", \"2.0s\"] \n",
    "\n",
    "solver_type = \"Ode15s\"\n",
    "n_days = \"10\"\n",
    "var_type = \"States\"\n",
    "order = \"4th\"\n",
    "dates = [f\"2000{str(month).zfill(2)}01\" for month in range(1, 13)]\n",
    "# state_names = [\"co2Air\", \"co2Top\", \"tAir\", \"tTop\", \"tCan\", \"tCovIn\", \"tCovE\", \"tThScr\", \\\n",
    "#         \"tFlr\", \"tPipe\", \"tSo1\", \"tSo2\", \"tSo3\", \"tSo4\", \"tSo5\", \"vpAir\", \"vpTop\", \"tLamp\", \\\n",
    "#         \"tIntLamp\", \"tGroPipe\", \"tBlScr\", \"tCan24\", \"cBuf\", \"cLeaf\", \"cStem\", \"cFruit\", \"tCanSum\", \"Time\"]\n",
    "# weather_names = [\"Global radiation\", \"Outdoor temperature\", \"Outdoor VP\", \"Outdoor CO2 concentration\", \"Outdoor wind speed\", \"Sky temperature\", \"Soil temperature\", \"Daily radiation sum\", \"Daytime\", \"Daytime smoothed\"]\n",
    "# control_names = [\"uBoil\", \"uCO2\", \"uThScr\", \"uVent\", \"uLamp\", \"uIntLamp\", \"uGroPipe\", \"uBlScr\"]\n"
   ]
  },
  {
   "cell_type": "code",
   "execution_count": null,
   "id": "224b2a87",
   "metadata": {},
   "outputs": [],
   "source": [
    "step_sizes = [\"0.01s\", \"0.1s\", \"1.0s\"]\n",
    "\n",
    "solver_type = \"Ode15s\"\n",
    "n_days = \"1\"\n",
    "var_type = \"States\"\n",
    "order = \"4th\"\n",
    "dates = [f\"2000{str(month).zfill(2)}01\" for month in range(1, 2)]\n",
    "dates\n"
   ]
  },
  {
   "cell_type": "code",
   "execution_count": null,
   "id": "3ddda8fd",
   "metadata": {},
   "outputs": [],
   "source": [
    "state_names = [\"co2Air\", \"co2Top\", \"tAir\", \"tTop\", \"tCan\", \"tCovIn\", \"tCovE\", \"tThScr\", \\\n",
    "        \"tFlr\", \"tPipe\", \"tSo1\", \"tSo2\", \"tSo3\", \"tSo4\", \"tSo5\", \"vpAir\", \"vpTop\", \"tLamp\", \\\n",
    "        \"tIntLamp\", \"tGroPipe\", \"tBlScr\", \"tCan24\", \"cBuf\", \"cLeaf\", \"cStem\", \"cFruit\", \"tCanSum\", \"Time\"]\n",
    "weather_names = [\"Global radiation\", \"Outdoor temperature\", \"Outdoor VP\", \"Outdoor CO2 concentration\", \"Outdoor wind speed\", \"Sky temperature\", \"Soil temperature\", \"Daily radiation sum\", \"Daytime\", \"Daytime smoothed\"]\n",
    "control_names = [\"uBoil\", \"uCO2\", \"uThScr\", \"uVent\", \"uLamp\", \"uIntLamp\", \"uGroPipe\", \"uBlScr\"]\n"
   ]
  },
  {
   "cell_type": "code",
   "execution_count": null,
   "id": "083da992",
   "metadata": {},
   "outputs": [],
   "source": []
  },
  {
   "cell_type": "markdown",
   "id": "6ad6f7ef",
   "metadata": {},
   "source": [
    "### 3. Load in data and immediately process "
   ]
  },
  {
   "cell_type": "code",
   "execution_count": null,
   "id": "dd6966b4-baa3-455c-848b-3fbacfeaa0a0",
   "metadata": {},
   "outputs": [],
   "source": [
    "\n",
    "matlab_state_exp = []\n",
    "python_states_exp = []\n",
    "\n",
    "for date in dates:\n",
    "    matlab_states = []\n",
    "    python_states = []\n",
    "\n",
    "    for step_size in step_sizes:\n",
    "        mat_states, py_variables = load_data(step_size, state_names, var_type, date, solver_type, n_days=n_days, order=order)\n",
    "        matlab_states.append(mat_states)\n",
    "        python_states.append(py_variables[state_names])\n",
    "    matlab_state_exp.append(matlab_states)\n",
    "    python_states_exp.append(python_states)\n"
   ]
  },
  {
   "cell_type": "code",
   "execution_count": null,
   "id": "c5017921",
   "metadata": {},
   "outputs": [],
   "source": [
    "for i in range(3): print(matlab_state_exp[0][i].shape)\n"
   ]
  },
  {
   "cell_type": "code",
   "execution_count": null,
   "id": "34f34c87",
   "metadata": {},
   "outputs": [],
   "source": [
    "import sys"
   ]
  },
  {
   "cell_type": "code",
   "execution_count": null,
   "id": "2a19c9c1",
   "metadata": {},
   "outputs": [],
   "source": [
    "for i in range(3): print(sys.getsizeof(python_states_exp[0][i]))"
   ]
  },
  {
   "cell_type": "code",
   "execution_count": null,
   "id": "2ffb600b-d42e-43c2-9fe6-042b4c33594c",
   "metadata": {},
   "outputs": [],
   "source": [
    "rRMSEs_exp = []\n",
    "\n",
    "\n",
    "for matlab_states, python_states in zip(matlab_state_exp[:], python_states_exp[:]):\n",
    "    rRMSEs_df = pd.DataFrame()\n",
    "    rRMSEs = np.zeros(shape=(len(matlab_states), len(state_names)-1))\n",
    "    for i in range(len(step_sizes)):\n",
    "        mat_states = matlab_states[i]\n",
    "        py_states = python_states[i]\n",
    "        for j, col in enumerate(matlab_states[i].columns[:-1]):\n",
    "            rRMSEs[i,j] += rRMSE(py_states[col].iloc[:], mat_states[col])\n",
    "    rRMSEs_exp.append(rRMSEs)\n"
   ]
  },
  {
   "cell_type": "code",
   "execution_count": null,
   "id": "b33d14a2",
   "metadata": {},
   "outputs": [],
   "source": [
    "rRMSEs_exp[]"
   ]
  },
  {
   "cell_type": "code",
   "execution_count": null,
   "id": "b3460191",
   "metadata": {},
   "outputs": [],
   "source": [
    "rRMSEs_exp = np.array(rRMSEs_exp)\n",
    "mean_rRMSEs = rRMSEs_exp.mean(axis=0)\n",
    "std_rRMSEs = rRMSEs_exp.std(axis=0)\n",
    "ci95 = confidence_interval(rRMSEs_exp)\n"
   ]
  },
  {
   "cell_type": "code",
   "execution_count": null,
   "id": "c42faadb-0011-48c9-b999-84e31e861129",
   "metadata": {},
   "outputs": [],
   "source": [
    "columns_to_plot = ['co2Air', 'tAir', 'vpAir', 'cFruit']\n",
    "col_names = [r'$\\mathregular{CO_2}$', 'Air temperature', 'Air vapour pressure', 'Fruit carbohydrates'] \n",
    "\n",
    "step_sizes = [\"0.01\", \"0.1\", \"1.0\"]\n",
    "# step_sizes = [\"0.5\", \"1.0\", \"2.0\"]\n",
    "\n",
    "rrmses_df = pd.DataFrame(data=mean_rRMSEs, columns=state_names[:-1])\n",
    "rrmses_df['Step size'] = step_sizes\n",
    "rrmses_df_subset = rrmses_df[columns_to_plot]\n",
    "\n",
    "rrmses_std_df = pd.DataFrame(data=std_rRMSEs, columns=state_names[:-1])\n",
    "rrmses_std_df['Step size'] = step_sizes\n",
    "rrmses_std_df_subset = rrmses_std_df[columns_to_plot]\n",
    "\n",
    "rrmses_ci95_df = pd.DataFrame(data=ci95, columns=state_names[:-1])\n",
    "rrmses_ci95_df['Step size'] = step_sizes\n",
    "rrmses_ci95_df_subset = rrmses_ci95_df[columns_to_plot]\n",
    "\n",
    "# Number of states (or columns) to plot\n",
    "num_states = len(columns_to_plot)\n",
    "\n",
    "# Create a figure and axis\n",
    "fig = plt.figure(dpi=120)\n",
    "ax = fig.add_subplot()\n",
    "\n",
    "# Width of a bar \n",
    "bar_width = 0.2\n",
    "\n",
    "# Positions of the bar groups on the x-axis\n",
    "indices = np.arange(len(rrmses_df_subset))\n",
    "colors = cm.tokyoS\n",
    "\n",
    "# Plot each state's data\n",
    "for i, state in enumerate(columns_to_plot):\n",
    "    ax.bar(indices + i * bar_width, rrmses_df_subset[state], width=bar_width, label=state, color=colors(i+4), edgecolor='black', alpha=1)\n",
    "\n",
    "# IF YOU AIM TO PLOT ERROR BARS\n",
    "for i, state in enumerate(columns_to_plot):\n",
    "    ax.errorbar(indices + i * bar_width, rrmses_df_subset[state], yerr=rrmses_ci95_df_subset[state], capsize=5, linestyle='None', color='black', fmt='')\n",
    "# ax.errorbar(index-bar_width, twb_df['CO2'], yerr=twb_errors_df[\"CO2\"], capsize=5, linestyle='None', color='black', fmt='', )\n",
    "\n",
    "# Set the position of the x ticks\n",
    "ax.set_xticks(indices + bar_width * (num_states - 1) / 2)\n",
    "\n",
    "# Set the labels for the x ticks\n",
    "ax.set_xticklabels(rrmses_df['Step size'])\n",
    "\n",
    "ax.set_yscale('log')\n",
    "\n",
    "# Set labels and title\n",
    "ax.set_xlabel('Solver step size (s)')\n",
    "ax.set_ylabel('rRMSE (%)')\n",
    "\n",
    "# Adding the legend and showing the plot\n",
    "# fig.legend(labels = col_names)\n",
    "fig.tight_layout()\n",
    "fig.savefig(\"rRMSE.svg\")\n",
    "plt.show()\n"
   ]
  },
  {
   "cell_type": "code",
   "execution_count": null,
   "id": "b8869ff9",
   "metadata": {},
   "outputs": [],
   "source": [
    "# for state in columns_to_plot:\n",
    "    # print(state)\n",
    "print(rrmses_df[columns_to_plot])\n",
    "    # print(rrmses_ci95_df[state])"
   ]
  },
  {
   "cell_type": "code",
   "execution_count": null,
   "id": "c25f2314",
   "metadata": {},
   "outputs": [],
   "source": [
    "rrmses_ci95_df"
   ]
  }
 ],
 "metadata": {
  "kernelspec": {
   "display_name": "Python 3 (ipykernel)",
   "language": "python",
   "name": "python3"
  },
  "language_info": {
   "codemirror_mode": {
    "name": "ipython",
    "version": 3
   },
   "file_extension": ".py",
   "mimetype": "text/x-python",
   "name": "python",
   "nbconvert_exporter": "python",
   "pygments_lexer": "ipython3",
   "version": "3.11.0"
  }
 },
 "nbformat": 4,
 "nbformat_minor": 5
}
