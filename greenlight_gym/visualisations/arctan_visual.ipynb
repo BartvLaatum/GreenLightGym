{
 "cells": [
  {
   "cell_type": "code",
   "execution_count": null,
   "metadata": {},
   "outputs": [],
   "source": [
    "import numpy as np\n",
    "import matplotlib.pyplot as plt\n",
    "import cmcrameri.cm as cm\n",
    "from matplotlib.cm import ScalarMappable"
   ]
  },
  {
   "cell_type": "code",
   "execution_count": null,
   "metadata": {},
   "outputs": [],
   "source": [
    "### Latex font in plots\n",
    "plt.rcParams['font.serif'] = \"cmr10\"\n",
    "plt.rcParams['font.family'] = \"serif\"\n",
    "plt.rcParams['font.size'] = 24\n",
    "\n",
    "plt.rcParams['legend.fontsize'] = 24\n",
    "plt.rcParams['legend.loc'] = 'upper right'\n",
    "plt.rcParams['axes.labelsize'] = 24\n",
    "plt.rcParams['axes.formatter.use_mathtext'] = True\n",
    "plt.rcParams['xtick.labelsize'] = 24\n",
    "plt.rcParams['ytick.labelsize'] = 24\n",
    "plt.rcParams['text.usetex'] = False\n",
    "plt.rcParams['mathtext.fontset'] = 'cm'\n",
    "plt.rcParams[\"axes.grid\"] = False\n",
    "plt.rcParams['svg.fonttype'] = 'none'\n",
    "plt.rcParams['axes.linewidth'] = 2   # Default for all spines\n",
    "# plt.rcParams['text.usetex'] = True\n",
    "plt.rcParams['xtick.major.size'] = 6  # Thicker major x-ticks\n",
    "plt.rcParams['xtick.major.width'] = 2  # Thicker major x-\n",
    "plt.rcParams['ytick.major.size'] = 6  \n",
    "plt.rcParams['ytick.major.width'] = 2 \n",
    "plt.rc('axes', unicode_minus=False)\n"
   ]
  },
  {
   "cell_type": "code",
   "execution_count": null,
   "metadata": {},
   "outputs": [],
   "source": [
    "def arctan(x, k):\n",
    "    return 2/np.pi* np.arctan(k*x)"
   ]
  },
  {
   "cell_type": "code",
   "execution_count": null,
   "metadata": {},
   "outputs": [],
   "source": [
    "ki = np.linspace(0, 1, 11)\n",
    "x = np.linspace(0, 20, 1000)\n",
    "\n",
    "# ki"
   ]
  },
  {
   "cell_type": "code",
   "execution_count": null,
   "metadata": {},
   "outputs": [],
   "source": [
    "# compute the arctan function for different values of k\n",
    "\n",
    "fig = plt.figure(dpi=120)\n",
    "ax = fig.add_subplot(111)\n",
    "\n",
    "cmap = cm.tokyo\n",
    "for i, k in enumerate(ki):\n",
    "    normalized_k = i / len(ki)\n",
    "    ax.plot(x, arctan(x, k), label=f\"k={k}\", linewidth=2, color=cmap(normalized_k))\n",
    "\n",
    "\n",
    "sm = ScalarMappable(cmap=cmap, norm=plt.Normalize(vmin=ki.min(), vmax=ki.max()))\n",
    "sm.set_array([])  # You can set an empty array to avoid warnings\n",
    "\n",
    "# Add the colorbar to the figure\n",
    "cbar = fig.colorbar(sm, ax=ax)\n",
    "# set cbar ticks\n",
    "cbar.set_ticks(np.linspace(0, 1, 6))\n",
    "\n",
    "cbar.set_label(r'$k_{i}$')\n",
    "ax.set_xlabel(r'$\\Delta_i$')\n",
    "ax.set_ylabel(r'$\\tan^{-1}(k_i\\Delta_i)$')\n",
    "ax.set_yticks(np.linspace(0, 1, 6))\n",
    "\n",
    "ax.spines[['right', 'top']].set_visible(False)\n",
    "fig.tight_layout()\n",
    "fig.savefig(\"arctan.svg\", format=\"svg\")\n",
    "plt.show()"
   ]
  },
  {
   "cell_type": "code",
   "execution_count": null,
   "metadata": {},
   "outputs": [],
   "source": [
    "x = np.linspace(0, 10, 1000)\n",
    "fig = plt.figure(dpi=120)\n",
    "ax = fig.add_subplot(111)\n",
    "for i in range(10):\n",
    "\n",
    "    ax.plot(x, -x/i, label=r\"$-\\frac{\\Delta_i}{5}$\", linewidth=2, color=cm.tokyoS(9))"
   ]
  },
  {
   "cell_type": "code",
   "execution_count": null,
   "metadata": {},
   "outputs": [],
   "source": [
    "import matplotlib.colors as colors\n",
    "\n",
    "hex_value = colors.rgb2hex(cm.tokyoS(3))\n",
    "print(hex_value)\n"
   ]
  },
  {
   "cell_type": "code",
   "execution_count": null,
   "metadata": {},
   "outputs": [],
   "source": [
    "SEED = 4\n",
    "np.random.seed(SEED)\n",
    "N = 6\n",
    "u = np.random.normal(loc=0, scale=5.0,size=N)\n",
    "t = np.linspace(0, 1, N)\n",
    "\n",
    "fig = plt.figure(dpi=120)\n",
    "ax = fig.add_subplot(111)\n",
    "ax.step(t, u, label=\"u(t)\", linewidth=4, where=\"post\")\n",
    "ax.set_yticks([])\n",
    "ax.set_xticks([])\n",
    "ax.spines[['right', 'top']].set_visible(False)\n",
    "ax.set_xlabel(\"t\")\n",
    "ax.set_ylabel(\"u\")\n",
    "fig.tight_layout()\n",
    "fig.savefig(\"control-plot.svg\", format=\"svg\")\n",
    "plt.show()"
   ]
  }
 ],
 "metadata": {
  "kernelspec": {
   "display_name": "greenlight_gym",
   "language": "python",
   "name": "python3"
  },
  "language_info": {
   "codemirror_mode": {
    "name": "ipython",
    "version": 3
   },
   "file_extension": ".py",
   "mimetype": "text/x-python",
   "name": "python",
   "nbconvert_exporter": "python",
   "pygments_lexer": "ipython3",
   "version": "3.11.0"
  }
 },
 "nbformat": 4,
 "nbformat_minor": 2
}
