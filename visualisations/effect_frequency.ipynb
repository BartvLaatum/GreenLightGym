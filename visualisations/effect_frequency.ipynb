{
 "cells": [
  {
   "cell_type": "markdown",
   "id": "37ee2e92",
   "metadata": {},
   "source": [
    "# Visualisations for the effect of control interval"
   ]
  },
  {
   "cell_type": "code",
   "execution_count": null,
   "id": "59b03d0a-6566-433d-956b-cf752d5ff247",
   "metadata": {},
   "outputs": [],
   "source": [
    "from typing import List\n",
    "import pandas as pd\n",
    "import matplotlib.pyplot as plt\n",
    "import numpy as np\n",
    "import matplotlib.cm as cm\n",
    "from matplotlib.ticker import MaxNLocator\n",
    "from cmcrameri import cm"
   ]
  },
  {
   "cell_type": "markdown",
   "id": "799e3739",
   "metadata": {},
   "source": [
    "Standard plotting parameters"
   ]
  },
  {
   "cell_type": "code",
   "execution_count": null,
   "id": "bf252221-d9a8-4315-95ec-46e630793bc4",
   "metadata": {},
   "outputs": [],
   "source": [
    "### Latex font in plots\n",
    "plt.rcParams['font.serif'] = \"cmr10\"\n",
    "plt.rcParams['font.family'] = \"serif\"\n",
    "plt.rcParams['font.size'] = 24\n",
    "\n",
    "plt.rcParams['legend.fontsize'] = 24\n",
    "plt.rcParams['legend.loc'] = 'upper right'\n",
    "plt.rcParams['axes.labelsize'] = 24\n",
    "plt.rcParams['axes.formatter.use_mathtext'] = True\n",
    "plt.rcParams['xtick.labelsize'] = 24\n",
    "plt.rcParams['ytick.labelsize'] = 24\n",
    "plt.rcParams['text.usetex'] = False\n",
    "plt.rcParams['mathtext.fontset'] = 'cm'\n",
    "plt.rcParams[\"axes.grid\"] = False\n",
    "plt.rcParams['svg.fonttype'] = 'none'\n",
    "plt.rcParams['axes.linewidth'] = 2   # Default for all spines\n",
    "plt.rcParams['axes.spines.top'] = False\n",
    "plt.rcParams['axes.spines.right'] = False\n",
    "# plt.rcParams['text.usetex'] = True\n",
    "plt.rcParams['xtick.major.size'] = 6  # Thicker major x-ticks\n",
    "plt.rcParams['xtick.major.width'] = 2  # Thicker major x-\n",
    "plt.rcParams['ytick.major.size'] = 6  \n",
    "plt.rcParams['ytick.major.width'] = 2 \n",
    "plt.rc('axes', unicode_minus=False)\n"
   ]
  },
  {
   "cell_type": "markdown",
   "id": "5819a3d9",
   "metadata": {},
   "source": [
    "### Helper function to load in data as pandas DataFrame"
   ]
  },
  {
   "cell_type": "code",
   "execution_count": null,
   "id": "6cc523dc-fbdf-46ba-9a16-aeea707426da",
   "metadata": {},
   "outputs": [],
   "source": [
    "def load_data_file(step_size: str, n_days: int = 10, control_frequency: int = 1) -> pd.DataFrame:\n",
    "    '''\n",
    "    Load a single data file with the results of the simulation\n",
    "    Arguments:\n",
    "        step_size: str, step size of the simulation\n",
    "        n_days: int, number of days of the simulation\n",
    "        control_frequency: int, control frequency of the simulation\n",
    "    returns:\n",
    "        python_variables: pd.DataFrame, data from the simulation\n",
    "    '''\n",
    "    python_variables = pd.read_csv(f\"../data/model-comparison/python-rule-based/step-size-{step_size}-control-frequency-{control_frequency}-{n_days}.csv\", sep=\",\")[:]\n",
    "    return python_variables\n",
    "\n",
    "def load_all_data(step_sizes: List[str], control_frequencies: List[int], n_days: int = 10) -> List[List[pd.DataFrame]]:\n",
    "    '''\n",
    "    Load all data from the experiments checking step size and control frequency.\n",
    "    Arguments:\n",
    "        step_sizes: List[str], step sizes of the simulation\n",
    "    returns:\n",
    "        python_variables: List[pd.DataFrame], data from the simulation\n",
    "    '''\n",
    "    experiment_step_size_res = []\n",
    "\n",
    "    for step in step_sizes:\n",
    "        python_states = []\n",
    "        for control_freq in control_frequencies[:]:\n",
    "            py_states = load_data_file(step, n_days=n_days, control_frequency=control_freq)\n",
    "            python_states.append(py_states)\n",
    "        experiment_step_size_res.append(python_states)\n",
    "    return experiment_step_size_res\n",
    "\n"
   ]
  },
  {
   "cell_type": "code",
   "execution_count": null,
   "id": "6c62becd-ed52-44c0-adf1-33580a479b69",
   "metadata": {},
   "outputs": [],
   "source": [
    "matlab_timing = [115.3312, 113.6639, 117.1956, 113.6042, 116.7673, 114.0659, 113.2125, 114.9254, 114.6993, 114.5638]\n",
    "matlab_timing_mean = np.mean(matlab_timing)\n",
    "matlab_timing_std = np.std(matlab_timing)"
   ]
  },
  {
   "cell_type": "code",
   "execution_count": null,
   "id": "86866129-17ab-4cc3-a5cd-b5324fe13f3c",
   "metadata": {},
   "outputs": [],
   "source": [
    "control_frequencies = [2, 4, 8, 16] + [i*30 for i in range(1, 121)]\n",
    "n_days = 10\n",
    "step_sizes = ['0.5', '1.0', '2.0']\n",
    "\n",
    "experiment_step_size_res = load_all_data(step_sizes, control_frequencies, n_days)"
   ]
  },
  {
   "cell_type": "code",
   "execution_count": null,
   "id": "f9bd917c",
   "metadata": {},
   "outputs": [],
   "source": [
    "step_size_run_time_data = [pd.concat(python_states) for python_states in experiment_step_size_res]\n",
    "step_size_run_time_data_unique = [df.drop_duplicates(subset=['Control frequency', 'episode']).loc[:,['Run time', 'Control frequency', 'episode']] for df in step_size_run_time_data]\n",
    "\n",
    "step_size_run_time_mean = [df.groupby('Control frequency', as_index=False).mean() for df in step_size_run_time_data_unique]\n",
    "step_size_run_time_std = [df.groupby('Control frequency', as_index=False).std() for df in step_size_run_time_data_unique]"
   ]
  },
  {
   "cell_type": "code",
   "execution_count": null,
   "id": "72144e1f",
   "metadata": {},
   "outputs": [],
   "source": [
    "fig = plt.figure(dpi=120)\n",
    "ax = fig.add_subplot()\n",
    "\n",
    "colors = [cm.tokyoS(i) for i in range(4,7)]\n",
    "\n",
    "ax.hlines(matlab_timing, xmin=2, xmax=3600, label=\"Matlab\", linewidth=4, linestyle=\"-\", colors=cm.tokyoS(2), alpha=1.0)\n",
    "ax.fill_between([2, 3600], matlab_timing_mean - matlab_timing_std, matlab_timing_mean + matlab_timing_std, color=cm.tokyoS(2), alpha=0.6)\n",
    "\n",
    "for i, df_mean in enumerate(step_size_run_time_mean):\n",
    "    ax.plot(df_mean['Control frequency'], df_mean['Run time'], linewidth=4, color=colors[i], label=f'h={step_sizes[i]} s')\n",
    "    ax.fill_between(df_mean['Control frequency'], df_mean['Run time'] - step_size_run_time_std[i]['Run time'], df_mean['Run time'] + step_size_run_time_std[i]['Run time'], color=colors[i], alpha=0.6)\n",
    "\n",
    "ylim = ax.get_ylim()\n",
    "ax.vlines(300, 0.5, 200, linestyle=\"--\", linewidth=3, color='grey', alpha=0.6)\n",
    "\n",
    "ax.set_ylim(0.5, 130)\n",
    "\n",
    "ax.set_ylabel(\"Execution time (s)\")\n",
    "ax.set_xlabel(r\"$\\Delta$ t\")\n",
    "ax.set_yscale('log')\n",
    "ax.set_xscale('log')\n",
    "ax.legend(loc='lower left')\n",
    "fig.tight_layout()\n",
    "fig.savefig(\"execution_time.svg\")\n",
    "plt.show()\n"
   ]
  },
  {
   "cell_type": "code",
   "execution_count": null,
   "id": "53d95ce3",
   "metadata": {},
   "outputs": [],
   "source": [
    "def compute_relative_diff(truth, deviation):\n",
    "    return (deviation-truth)/truth * 100"
   ]
  },
  {
   "cell_type": "code",
   "execution_count": null,
   "metadata": {},
   "outputs": [],
   "source": [
    "df = step_size_run_time_data[1]\n",
    "\n",
    "# def relative_change_profit(df, )\n",
    "\n",
    "profit_grouped = df.groupby(['Control frequency', 'episode'])['Profits'].sum().reset_index()\n",
    "\n",
    "# Filtdf_corrected.set_index('episode', inplace=True)er the DataFrame for control frequency 2.0 for easy reference\n",
    "# profit_grouped.set_index('episode', inplace=True)\n",
    "\n",
    "cf_2_corrected = profit_grouped[profit_grouped['Control frequency'] == 2.0]['Profits']\n",
    "\n",
    "profit_grouped['Relative Change in Profit'] = profit_grouped.apply(\n",
    "    lambda row: ((row['Profits'] - cf_2_corrected.loc[row['episode']]) / cf_2_corrected.loc[row['episode']]  *100) \n",
    "                if row['Control frequency'] != 2.0 else 0, axis=1)\n"
   ]
  },
  {
   "cell_type": "code",
   "execution_count": null,
   "metadata": {},
   "outputs": [],
   "source": [
    "# take the mean of the relative change in profit for each control frequency\n",
    "relative_change_mean = profit_grouped.groupby('Control frequency')['Relative Change in Profit'].mean()\n",
    "relative_change_std = profit_grouped.groupby('Control frequency')['Relative Change in Profit'].std()\n",
    "# relative_change\n",
    "relative_change_mean, relative_change_std"
   ]
  },
  {
   "cell_type": "code",
   "execution_count": null,
   "id": "6fba160a",
   "metadata": {},
   "outputs": [],
   "source": [
    "fig = plt.figure(dpi=120)\n",
    "\n",
    "ax = fig.add_subplot()\n",
    "ax.plot(control_frequencies[:], relative_change_mean.iloc[:], linewidth=4, color=colors[0])\n",
    "\n",
    "ax.fill_between(control_frequencies[:], relative_change_mean.iloc[:] - relative_change_std.iloc[:], relative_change_mean.iloc[:] + relative_change_std.iloc[:], color=colors[0], alpha=0.6)\n",
    "\n",
    "ax.set_ylabel(r\"$\\Delta$Profit (%)\")\n",
    "ax.set_xlabel(r\"$\\Delta t$\") \n",
    "\n",
    "ax.set_xscale('log')\n",
    "ylim = (-58.80595347004319, 6.0380082942254525)\n",
    "# ylim = ax.get_ylim()#[ , ax.get_ylim()[1]]\n",
    "ax.vlines(300, ylim[0], ylim[1], linestyle=\"--\", linewidth=3, color='grey', alpha=0.6)\n",
    "ax.set_ylim(ylim)\n",
    "\n",
    "ax.yaxis.set_major_locator(MaxNLocator(nbins=6))\n",
    "fig.tight_layout()\n",
    "fig.savefig(\"delta_profit.svg\")\n",
    "plt.show()\n"
   ]
  },
  {
   "cell_type": "code",
   "execution_count": null,
   "id": "c7be9837",
   "metadata": {},
   "outputs": [],
   "source": [
    "relative_change_mean.head(50)"
   ]
  },
  {
   "cell_type": "code",
   "execution_count": null,
   "id": "2f63bc74",
   "metadata": {},
   "outputs": [],
   "source": [
    "# steps_per_episode = df.groupby('Control frequency').nunique()\n"
   ]
  },
  {
   "cell_type": "code",
   "execution_count": null,
   "id": "65c3119a-066d-4f25-a42a-faf8ee802072",
   "metadata": {},
   "outputs": [],
   "source": [
    "def relative_diff_twb(df, constraint_violation):\n",
    "    '''\n",
    "    Compute relative difference between time within boundary for a specific state variable.\n",
    "    '''\n",
    "\n",
    "\n",
    "    episode_length_per_control_freq = df[df['episode'] == 1].groupby('Control frequency')['episode'].sum()\n",
    "    violation_df = df.assign(Violation = df[constraint_violation] >= 0)\n",
    "    violation_df = violation_df.groupby(['Control frequency', 'episode'])['Violation'].sum().reset_index()\n",
    "    violation_df['CF_Value'] = violation_df['Control frequency'].map(episode_length_per_control_freq)\n",
    "    violation_df['TWB'] = violation_df['Violation'] / violation_df['CF_Value'] * 100\n",
    "\n",
    "    reference_df = violation_df[violation_df['Control frequency'] == 2.0]['TWB']\n",
    "\n",
    "\n",
    "    violation_df['Relative Change in TWB'] = violation_df.apply(\n",
    "        lambda row: ((row['TWB'] - reference_df.loc[row['episode']]) / reference_df.loc[row['episode']]  *100) \n",
    "                    if row['Control frequency'] != 2.0 else 0, axis=1)\n",
    "\n",
    "\n",
    "\n",
    "    violation_df_mean = violation_df.groupby('Control frequency', as_index=False)['Relative Change in TWB'].mean()\n",
    "    violation_df_std = violation_df.groupby('Control frequency', as_index=False)['Relative Change in TWB'].std()\n",
    "\n",
    "    return violation_df_mean, violation_df_std\n"
   ]
  },
  {
   "cell_type": "code",
   "execution_count": null,
   "id": "459e8170",
   "metadata": {},
   "outputs": [],
   "source": []
  },
  {
   "cell_type": "code",
   "execution_count": null,
   "id": "37bcfbbd",
   "metadata": {},
   "outputs": [],
   "source": [
    "df = step_size_run_time_data[1]\n",
    "violations = ['CO2 violation','Temperature violation', 'Humidity violation']\n",
    "twb_change = []\n",
    "twb_change_std = []\n",
    "for violation in violations:\n",
    "    df_mean, df_std = relative_diff_twb(df, violation)\n",
    "    twb_change.append(df_mean)\n",
    "    twb_change_std.append(df_std)"
   ]
  },
  {
   "cell_type": "code",
   "execution_count": null,
   "id": "a557462c",
   "metadata": {},
   "outputs": [],
   "source": [
    "for i in range(3): print(twb_change[i].head(40))"
   ]
  },
  {
   "cell_type": "code",
   "execution_count": null,
   "id": "99f3e69d",
   "metadata": {},
   "outputs": [],
   "source": [
    "fig = plt.figure(dpi=120)\n",
    "\n",
    "ax = fig.add_subplot()\n",
    "labels= ['CO2','Temperature', 'Humidity']\n",
    "\n",
    "for i, twb in enumerate(twb_change):\n",
    "    ax.plot(control_frequencies[:], twb['Relative Change in TWB'].iloc[:], linewidth=4, color=colors[i], label=labels[i])\n",
    "\n",
    "    ax.fill_between(control_frequencies[:], twb['Relative Change in TWB'].iloc[:] - twb_change_std[i]['Relative Change in TWB'].iloc[:], twb['Relative Change in TWB'].iloc[:] + twb_change_std[i]['Relative Change in TWB'].iloc[:], color=colors[i], alpha=0.6)\n",
    "\n",
    "    # ax.fill_between(control_frequencies[:], twb['Relative Change in TWB'].iloc[1:] - Relative Change in TWB_change_std[i]['Relative Change in TWB'].iloc[1:], Relative Change in TWB['Relative Change in TWB'].iloc[1:] + Relative Change in TWB_change_std[i]['Relative Change in TWB'].iloc[1:], color=colors[i], alpha=0.6)\n",
    "\n",
    "ylim = ax.get_ylim()\n",
    "ax.vlines(300, ylim[0], ylim[1], linestyle=\"--\", linewidth=3, color='grey', alpha=0.6)\n",
    "ax.set_ylim(ylim)\n",
    "print(ylim)\n",
    "ax.set_ylabel(r\"$\\Delta$TWB (%)\")\n",
    "ax.set_xlabel(r\"$\\Delta t$\") \n",
    "\n",
    "ax.set_xscale('log')\n",
    "ylim = [-9 , ax.get_ylim()[1]]\n",
    "ax.legend()\n",
    "ax.yaxis.set_major_locator(MaxNLocator(nbins=6))\n",
    "fig.tight_layout()\n",
    "fig.savefig(\"delta_twb.svg\")\n",
    "plt.show()"
   ]
  }
 ],
 "metadata": {
  "kernelspec": {
   "display_name": "Python 3 (ipykernel)",
   "language": "python",
   "name": "python3"
  },
  "language_info": {
   "codemirror_mode": {
    "name": "ipython",
    "version": 3
   },
   "file_extension": ".py",
   "mimetype": "text/x-python",
   "name": "python",
   "nbconvert_exporter": "python",
   "pygments_lexer": "ipython3",
   "version": "3.11.0"
  }
 },
 "nbformat": 4,
 "nbformat_minor": 5
}
