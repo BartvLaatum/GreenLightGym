{
 "cells": [
  {
   "cell_type": "code",
   "execution_count": null,
   "id": "9fad090c-b2c3-46ca-8a61-8d46e8e8a026",
   "metadata": {},
   "outputs": [],
   "source": [
    "import pandas as pd\n",
    "from datetime import datetime, timedelta\n",
    "import matplotlib.pyplot as plt"
   ]
  },
  {
   "cell_type": "code",
   "execution_count": null,
   "id": "6261103d-8308-422d-ae76-2fa6554c59e0",
   "metadata": {},
   "outputs": [],
   "source": [
    "### Latex font in plots\n",
    "plt.rcParams['font.serif'] = \"cmr10\"\n",
    "plt.rcParams['font.family'] = \"serif\"\n",
    "plt.rcParams['font.size'] = 24\n",
    "\n",
    "plt.rcParams['legend.fontsize'] = 20\n",
    "plt.rcParams['legend.loc'] = 'upper right'\n",
    "plt.rcParams['axes.labelsize'] = 20\n",
    "plt.rcParams['axes.formatter.use_mathtext'] = True\n",
    "plt.rcParams['xtick.labelsize'] = 18\n",
    "plt.rcParams['ytick.labelsize'] = 18\n",
    "plt.rcParams['text.usetex'] = False\n",
    "plt.rcParams['mathtext.fontset'] = 'cm'\n",
    "plt.rcParams[\"axes.grid\"] = True\n",
    "# plt.rcParams['text.usetex'] = True\n",
    "plt.rc('axes', unicode_minus=False)\n"
   ]
  },
  {
   "cell_type": "code",
   "execution_count": null,
   "id": "76ed5ec6-7277-4003-b9cd-95a347e49ce2",
   "metadata": {},
   "outputs": [],
   "source": [
    "# Load the CSV file to examine its structure\n",
    "file_path = '../data/k-barrier-tuning/test-data/first-half-year-experiment.csv'\n",
    "data = pd.read_csv(file_path)\n",
    "\n",
    "# Display the first few rows of the dataframe to understand its structure\n",
    "data.head()"
   ]
  },
  {
   "cell_type": "code",
   "execution_count": null,
   "id": "87f4d885-0109-4353-a971-200d075ddd67",
   "metadata": {},
   "outputs": [],
   "source": [
    "\n",
    "# Convert 'Time' to readable datetime format\n",
    "data['Date'] = pd.to_datetime(data['Time'], unit='ms')\n",
    "data['Date'] = data['Date'].apply(lambda t: t+timedelta(hours=1))\n"
   ]
  },
  {
   "cell_type": "code",
   "execution_count": null,
   "id": "6ae96fa5-4464-428e-bdff-eb230f8405ff",
   "metadata": {},
   "outputs": [],
   "source": [
    "\n",
    "# Extract time of day from the 'Date' column\n",
    "data['TimeOfDay'] = data['Date'].dt.time\n",
    "\n",
    "# Group by time of day and calculate the mean temperature for each time step across all runs\n",
    "time_step_means = data.groupby('TimeOfDay')['Air Temperature'].mean().reset_index()\n",
    "\n",
    "# Convert 'TimeOfDay' to minutes past midnight for plotting\n",
    "time_step_means['MinutesPastMidnight'] = time_step_means['TimeOfDay'].apply(lambda t: t.hour + t.minute/60)\n",
    "\n",
    "# Plotting with the modified time format\n",
    "plt.figure(figsize=(10, 6))\n",
    "plt.plot(time_step_means['MinutesPastMidnight'], time_step_means['Air Temperature'], marker='o', linestyle='-', color=(0.9, .3, 0))\n",
    "plt.title('Average Temperature per Time Step Across All Runs')\n",
    "plt.xlabel('Hour of the day')\n",
    "plt.ylabel(r'Average Temperature [$^\\circ$C]')\n",
    "plt.grid(True)\n",
    "plt.tight_layout()\n",
    "\n",
    "plt.show()"
   ]
  },
  {
   "cell_type": "code",
   "execution_count": null,
   "id": "6ae470d9-466d-4da1-86c4-74d95fab17bf",
   "metadata": {},
   "outputs": [],
   "source": [
    "# Group by time of day and calculate the mean CO2 resource usage for each time step across all runs\n",
    "co2_resource_means = data.groupby('TimeOfDay')['CO2 resource'].mean().reset_index()\n",
    "\n",
    "# Adjust 'TimeOfDay' by adding one hour for UTC+1\n",
    "# co2_resource_means['TimeOfDayUTC+1'] = co2_resource_means['TimeOfDay'].apply(lambda t: (datetime.combine(datetime.today(), t) + timedelta(hours=1)).time())\n",
    "\n",
    "# Convert 'TimeOfDayUTC+1' to hours past midnight for plotting\n",
    "co2_resource_means['HoursPastMidnightUTC+1'] = co2_resource_means['TimeOfDay'].apply(lambda t: t.hour + t.minute / 60)\n",
    "\n",
    "# Plotting the CO2 resource usage against hours past midnight (UTC+1)\n",
    "plt.figure(figsize=(10, 6))\n",
    "plt.plot(co2_resource_means['HoursPastMidnightUTC+1'], co2_resource_means['CO2 resource'], marker='o', markersize=3, linestyle='-', color=(0.9, .3, 0))\n",
    "# plt.title('Average CO2 Resource Usage per Time Step Across All Runs (UTC+1)')\n",
    "\n",
    "plt.vlines(18, ymin=0, ymax=0.002, linestyle=\"--\", color='gray')\n",
    "plt.vlines(2, ymin=0, ymax=0.002, linestyle=\"--\", color='gray')\n",
    "plt.ylim(0, 0.002)\n",
    "# Filling the area between 02:00 and 18:00 with a lighter gray color\n",
    "plt.fill_betweenx([plt.ylim()[0], plt.ylim()[1]], 2, 18, color='gray', alpha=0.2)\n",
    "\n",
    "middle_point = (2 + 18) / 2\n",
    "plt.text(middle_point, plt.ylim()[1]*0.9, 'Lamps on', horizontalalignment='center', verticalalignment='center', fontsize=18, color='black', alpha=0.7)\n",
    "plt.xlabel('Hour of the day')\n",
    "plt.ylabel(r'CO$_2$ injection (kg m$^{-2}$)')\n",
    "\n",
    "plt.grid(True)\n",
    "plt.tight_layout()\n",
    "plt.savefig('co2_injection.svg')\n",
    "plt.show()"
   ]
  },
  {
   "cell_type": "code",
   "execution_count": null,
   "id": "3f292fad-f29e-48c3-b0c0-6cf8a39431cf",
   "metadata": {},
   "outputs": [],
   "source": [
    "# Group by time of day and calculate the mean CO2 resource usage for each time step across all runs\n",
    "co2_resource_means = data.groupby('TimeOfDay')['CO2 concentration'].mean().reset_index()\n",
    "\n",
    "# Adjust 'TimeOfDay' by adding one hour for UTC+1\n",
    "# co2_resource_means['TimeOfDayUTC+1'] = co2_resource_means['TimeOfDay'].apply(lambda t: (datetime.combine(datetime.today(), t) + timedelta(hours=1)).time())\n",
    "\n",
    "# Convert 'TimeOfDayUTC+1' to hours past midnight for plotting\n",
    "co2_resource_means['HoursPastMidnightUTC+1'] = co2_resource_means['TimeOfDay'].apply(lambda t: t.hour + t.minute / 60)\n",
    "\n",
    "# Plotting the CO2 resource usage against hours past midnight (UTC+1)\n",
    "plt.figure(figsize=(10, 6))\n",
    "plt.plot(co2_resource_means['HoursPastMidnightUTC+1'], co2_resource_means['CO2 concentration'], marker='o', markersize=3, linestyle='-', color=(0.9, .3, 0))\n",
    "# plt.title('Average CO2 Resource Usage per Time Step Across All Runs (UTC+1)')\n",
    "\n",
    "plt.vlines(18, ymin=0, ymax=0.002, linestyle=\"--\", color='gray')\n",
    "plt.vlines(2, ymin=0, ymax=0.002, linestyle=\"--\", color='gray')\n",
    "# plt.ylim(0, 0.002)\n",
    "# Filling the area between 02:00 and 18:00 with a lighter gray color\n",
    "plt.fill_betweenx([plt.ylim()[0], plt.ylim()[1]], 2, 18, color='gray', alpha=0.2)\n",
    "\n",
    "middle_point = (2 + 18) / 2\n",
    "plt.text(middle_point, plt.ylim()[1]*0.9, 'Lamps on', horizontalalignment='center', verticalalignment='center', fontsize=18, color='black', alpha=0.7)\n",
    "plt.xlabel('Hour of the day')\n",
    "plt.ylabel(r'CO$_2$ injection [kg m$^{-2}$]')\n",
    "\n",
    "# plt.grid(True)\n",
    "plt.tight_layout()\n",
    "plt.savefig('co2_injection.svg')\n",
    "plt.show()"
   ]
  },
  {
   "cell_type": "code",
   "execution_count": null,
   "id": "324cbe95-97e4-47b2-94e8-e6bf05e0281e",
   "metadata": {},
   "outputs": [],
   "source": []
  }
 ],
 "metadata": {
  "kernelspec": {
   "display_name": "Python 3 (ipykernel)",
   "language": "python",
   "name": "python3"
  },
  "language_info": {
   "codemirror_mode": {
    "name": "ipython",
    "version": 3
   },
   "file_extension": ".py",
   "mimetype": "text/x-python",
   "name": "python",
   "nbconvert_exporter": "python",
   "pygments_lexer": "ipython3",
   "version": "3.11.0"
  }
 },
 "nbformat": 4,
 "nbformat_minor": 5
}
