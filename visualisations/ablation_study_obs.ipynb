{
 "cells": [
  {
   "cell_type": "code",
   "execution_count": null,
   "metadata": {},
   "outputs": [],
   "source": [
    "from os import path\n",
    "\n",
    "import numpy as np\n",
    "import pandas as pd\n",
    "import cmcrameri.cm as cm\n",
    "\n",
    "from matplotlib import ticker\n",
    "import matplotlib.pyplot as plt\n",
    "import matplotlib.lines as mlines\n",
    "import matplotlib.patches as mpatches\n",
    "\n",
    "from utils import load_data, compute_profit_eps, aggregate_data, ci, calculate_twb"
   ]
  },
  {
   "cell_type": "code",
   "execution_count": null,
   "metadata": {},
   "outputs": [],
   "source": [
    "### Latex font in plots\n",
    "plt.rcParams['font.serif'] = \"cmr10\"\n",
    "plt.rcParams['font.family'] = \"serif\"\n",
    "plt.rcParams['font.size'] = 24\n",
    "\n",
    "plt.rcParams['legend.fontsize'] = 24\n",
    "plt.rcParams['legend.loc'] = 'upper right'\n",
    "plt.rcParams['axes.labelsize'] = 24\n",
    "plt.rcParams['axes.formatter.use_mathtext'] = True\n",
    "plt.rcParams['xtick.labelsize'] = 24\n",
    "plt.rcParams['ytick.labelsize'] = 24\n",
    "plt.rcParams['text.usetex'] = False\n",
    "plt.rcParams['mathtext.fontset'] = 'cm'\n",
    "plt.rcParams[\"axes.grid\"] = False\n",
    "plt.rcParams['svg.fonttype'] = 'none'\n",
    "plt.rcParams['axes.linewidth'] = 4   # Default for all spines\n",
    "# plt.rcParams['text.usetex'] = True\n",
    "plt.rcParams['axes.spines.top'] = False\n",
    "plt.rcParams['axes.spines.right'] = False\n",
    "plt.rcParams['xtick.major.size'] = 6  # Thicker major x-ticks\n",
    "plt.rcParams['xtick.major.width'] = 2  # Thicker major x-\n",
    "plt.rcParams['ytick.major.size'] = 6  \n",
    "plt.rcParams['ytick.major.width'] = 2 \n",
    "plt.rc('axes', unicode_minus=False)\n"
   ]
  },
  {
   "cell_type": "code",
   "execution_count": null,
   "metadata": {},
   "outputs": [],
   "source": [
    "data_path = '../data/ablation-study-obs/training'\n",
    "filename = 'rewards.csv'\n",
    "df  = pd.read_csv(path.join(data_path, filename))\n"
   ]
  },
  {
   "cell_type": "code",
   "execution_count": null,
   "metadata": {},
   "outputs": [],
   "source": [
    "window_size = 30\n",
    "running_avg_dfs = []\n",
    "columns = [ 'Group: additive-penalty - rollout/ep_rew_mean', 'Group: multiplicative-penalty - rollout/ep_rew_mean', \\\n",
    "           'Group: additive-penalty-no-daily-temp - rollout/ep_rew_mean', 'Group: multiplicative-penalty-no-daily-temp - rollout/ep_rew_mean']\n",
    "\n",
    "new_col_names = ['additive-penalty', 'multiplicative-penalty', 'additive-penalty-no-daily-temp', 'multiplicative-penalty-no-daily-temp']\n",
    "\n",
    "for i, column in enumerate(columns):\n",
    "    df[new_col_names[i] + ' RA'] = df[column].rolling(window_size).mean()\n"
   ]
  },
  {
   "cell_type": "code",
   "execution_count": null,
   "metadata": {},
   "outputs": [],
   "source": [
    "def plot_data(ax, df, color_labels, color, columns2plot, line_labels, linestyles):\n",
    "    # interate over multiplicative and additive penalty dataframe\n",
    "    # iterate over the model with and without daily crop Temperature observation\n",
    "    for i, col in enumerate(columns2plot):\n",
    "        x = df['global_step']\n",
    "        y = df[col]\n",
    "        ax.plot(x, y, color=color, linestyle=linestyles[i],  linewidth=4)\n",
    "\n",
    "    # Setting labels and formatter\n",
    "    ax.set_xlabel('Time step')\n",
    "    ax.xaxis.set_major_formatter(ticker.ScalarFormatter(useMathText=True))\n",
    "    ax.xaxis.offsetText.set_visible(False)\n",
    "    ax.xaxis.set_major_formatter(ticker.FuncFormatter(lambda x, pos: f'{x/1e6:.0f}'))\n",
    "    ax.set_ylabel('Training return')\n",
    "    ax.set_xlabel('Time step (millions)')\n",
    "\n",
    "    # Creating custom legend handles\n",
    "    color_handles = [mlines.Line2D([], [], color=color, label=color_labels[i], linewidth=4) for i in range(len(color_labels))]\n",
    "    line_handles = [mlines.Line2D([], [], color='grey', linestyle=linestyles[j], label=line_labels[j], linewidth=4) for j in range(len(line_labels))]\n",
    "\n",
    "    # Adding the legends\n",
    "    legend1 = ax.legend(handles=color_handles, title=\"\", loc='center right')\n",
    "    legend2 = ax.legend(handles=line_handles, title=r\"24h crop$_{T}$\", loc='lower right')\n",
    "    ax.add_artist(legend1)  # To keep the first legend\n",
    "\n",
    "    return ax\n"
   ]
  },
  {
   "cell_type": "code",
   "execution_count": null,
   "metadata": {},
   "outputs": [],
   "source": [
    "\n",
    "daily_avg_col_names = ['additive-penalty RA',  'additive-penalty-no-daily-temp RA'] #, 'Group: additive-penalty - rollout/ep_rew_mean RA']\n",
    "color_labels = ['Additive penalty']\n",
    "line_labels = ['yes', 'no']\n",
    "linestyles = ['-', '--']\n",
    "markers = ['o', 'x']\n",
    "colors = [cm.tokyoS(4), cm.tokyoS(6)]\n",
    "\n",
    "fig, ax = plt.subplots(dpi=120)\n",
    "\n",
    "ax = plot_data(ax, df, color_labels, colors[0], daily_avg_col_names, line_labels, linestyles)"
   ]
  },
  {
   "cell_type": "code",
   "execution_count": null,
   "metadata": {},
   "outputs": [],
   "source": [
    "daily_avg_col_names = ['multiplicative-penalty RA',  'multiplicative-penalty-no-daily-temp RA'] #, 'Group: Multiplicative-penalty - rollout/ep_rew_mean RA']\n",
    "color_labels = ['Multiplicative penalty']\n",
    "line_labels = ['yes', 'no']\n",
    "linestyles = ['-', '--']\n",
    "markers = ['o', 'x']\n",
    "colors = [cm.tokyoS(4), cm.tokyoS(6)]\n",
    "\n",
    "fig, ax = plt.subplots(dpi=120)\n",
    "\n",
    "ax = plot_data(ax, df, color_labels, colors[1], daily_avg_col_names, line_labels, linestyles)"
   ]
  },
  {
   "cell_type": "code",
   "execution_count": null,
   "metadata": {},
   "outputs": [],
   "source": [
    "def generate_grouped_bar_plot(twb_df, twb_df_ci, xlabels):\n",
    "    co2color = cm.tokyoS(4)\n",
    "    tcolor = cm.tokyoS(5)\n",
    "    humcolor = cm.tokyoS(6)\n",
    "\n",
    "    fig, ax = plt.subplots(dpi=120)\n",
    "\n",
    "    index = np.arange(len(xlabels))\n",
    "\n",
    "    bar_width = 0.2\n",
    "\n",
    "    bars1 = ax.bar(index - bar_width, twb_df['CO2 violation'], bar_width, edgecolor='black', color=co2color, label=r'CO$_2$')\n",
    "    ax.errorbar(index - bar_width, twb_df['CO2 violation'], yerr=twb_df_ci[\"CO2 violation\"], capsize=5, linestyle='None', color='black', fmt='')\n",
    "\n",
    "    bars2 = ax.bar(index, twb_df['Temperature violation'], bar_width, edgecolor='black', color=tcolor, label='Temperature')\n",
    "    ax.errorbar(index, twb_df['Temperature violation'], yerr=twb_df_ci[\"Temperature violation\"], capsize=5, linestyle='None', color='black', fmt='')\n",
    "\n",
    "    bars3 = ax.bar(index + bar_width, twb_df['Humidity violation'], bar_width, edgecolor='black', color=humcolor, label='Humidity')\n",
    "    ax.errorbar(index + bar_width, twb_df['Humidity violation'], yerr=twb_df_ci[\"Humidity violation\"], capsize=5, linestyle='None', color='black', fmt='')\n",
    "\n",
    "    ax.set_xticks(index)\n",
    "    ax.set_xticklabels(xlabels)\n",
    "    ax.set_ylabel('Time within boundary (%)')\n",
    "    ax.legend(bbox_to_anchor=(1.05, 1), loc='upper left', borderaxespad=0.)\n",
    "\n",
    "    plt.show()\n",
    "\n",
    "def grouped_profit_plot(ax, profit_df, errors, xlabels, colors):\n",
    "\n",
    "    hatch_labels = ['False', 'True']\n",
    "    hatches = ['','/']\n",
    "    bar_width = 0.3\n",
    "    ax.set_ylabel(r'Profits (EU m$^{-2}$)')\n",
    "    index = np.arange(len(xlabels))\n",
    "\n",
    "\n",
    "    ax.bar(index - 0.5*bar_width, profit_df['Profits No Daily Avg'], width=bar_width, color=colors, edgecolor='black')\n",
    "    ax.bar(index + 0.5*bar_width, profit_df['Profits Daily Avg'], width=bar_width, color=colors, edgecolor='black', hatch='/')\n",
    "\n",
    "    ax.errorbar(index - 0.5*bar_width, profit_df['Profits No Daily Avg'], yerr=errors['Profits Daily Avg'], capsize=5, linestyle='None', color='black', fmt='')\n",
    "    ax.errorbar(index + 0.5*bar_width, profit_df['Profits Daily Avg'], yerr=errors['Profits Daily Avg'], capsize=5, linestyle='None', color='black', fmt='')\n",
    "    \n",
    "    hatch_handles = [mpatches.Patch(facecolor='white', edgecolor='black', hatch=hatches[i], label=hatch_label) for i, hatch_label in enumerate(hatch_labels)]\n",
    "    ax.legend(handles=hatch_handles, title=\"24h crop Temperature\", bbox_to_anchor=(1, .5), loc='center left')\n",
    "    ax.set_xticks(index)\n",
    "    ax.set_xticklabels(xlabels)\n",
    "\n",
    "    fig.tight_layout()\n",
    "    return ax\n"
   ]
  },
  {
   "cell_type": "code",
   "execution_count": null,
   "metadata": {},
   "outputs": [],
   "source": [
    "multiplicative_path =  '../data/effect-daily-avg-temp/multiplicative-penalty'\n",
    "\n",
    "multiplicative_pen_df = load_data(multiplicative_path, 'gallant-bush-17.csv')\n",
    "multiplicative_pen_df_no_daily_avg = load_data( multiplicative_path + '-no-daily-temp', 'solar-galaxy-24.csv')\n",
    "\n",
    "additive_path = '../data/effect-daily-avg-temp/additive-penalty'\n",
    "\n",
    "additive_pen_df = load_data(additive_path, 'stellar-frog-16.csv')\n",
    "additive_pen_df_no_daily_avg = load_data( additive_path + '-no-daily-temp', 'celestial-dawn-20.csv')\n",
    "\n",
    "xlabels = ['Multiplicative', 'Additive']"
   ]
  },
  {
   "cell_type": "code",
   "execution_count": null,
   "metadata": {},
   "outputs": [],
   "source": []
  },
  {
   "cell_type": "code",
   "execution_count": null,
   "metadata": {},
   "outputs": [],
   "source": [
    "dfs =[[additive_pen_df_no_daily_avg, additive_pen_df], [multiplicative_pen_df_no_daily_avg, multiplicative_pen_df]]\n",
    "\n",
    "mean_profit_df = pd.DataFrame()\n",
    "ci95_profit_df = pd.DataFrame()\n",
    "methods = ['Additive', 'Multiplicative']\n",
    "labels = ['Profits No Daily Avg', 'Profits Daily Avg']\n",
    "\n",
    "\n",
    "for j, _ in enumerate(methods):\n",
    "    mean =np.array([compute_profit_eps(df).mean()['Profits'] for df in dfs[j]])\n",
    "    df_profit = pd.DataFrame({methods[j]: mean,}, index=labels)\n",
    "    mean_profit_df = pd.concat([mean_profit_df, df_profit], axis=1)\n",
    "\n",
    "    ci95 = np.array([ci(compute_profit_eps(df).std()['Profits'], n=60) for df in dfs[j]])\n",
    "    df_ci95 = pd.DataFrame({methods[j]: ci95,}, index=labels)\n",
    "    ci95_profit_df = pd.concat([ci95_profit_df, df_ci95], axis=1)\n",
    "\n",
    "\n",
    "mean_profit_df = mean_profit_df.T\n",
    "ci95_profit_df = ci95_profit_df.T"
   ]
  },
  {
   "cell_type": "code",
   "execution_count": null,
   "metadata": {},
   "outputs": [],
   "source": [
    "calculate_twb(dfs[0], ['No Avg Lights', 'Avg Lights'])"
   ]
  },
  {
   "cell_type": "code",
   "execution_count": null,
   "metadata": {},
   "outputs": [],
   "source": [
    "fig, ax = plt.subplots(figsize=(8, 4), dpi=120)\n",
    "colors = [cm.tokyoS(4), cm.tokyoS(6)]\n",
    "ax = grouped_profit_plot(ax, mean_profit_df, ci95_profit_df, xlabels=['Additive', 'Mutliplicative'], colors=colors)"
   ]
  }
 ],
 "metadata": {
  "kernelspec": {
   "display_name": "greenlight_gym",
   "language": "python",
   "name": "python3"
  },
  "language_info": {
   "codemirror_mode": {
    "name": "ipython",
    "version": 3
   },
   "file_extension": ".py",
   "mimetype": "text/x-python",
   "name": "python",
   "nbconvert_exporter": "python",
   "pygments_lexer": "ipython3",
   "version": "3.11.0"
  }
 },
 "nbformat": 4,
 "nbformat_minor": 2
}
