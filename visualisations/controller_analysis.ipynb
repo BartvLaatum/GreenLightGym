{
 "cells": [
  {
   "cell_type": "code",
   "execution_count": null,
   "metadata": {},
   "outputs": [],
   "source": [
    "import os.path\n",
    "import numpy as np\n",
    "import pandas as pd\n",
    "import matplotlib.pyplot as plt \n",
    "import cmcrameri.cm as cm\n",
    "from scipy.stats import normaltest, mannwhitneyu, ttest_ind"
   ]
  },
  {
   "cell_type": "code",
   "execution_count": null,
   "metadata": {},
   "outputs": [],
   "source": [
    "### Latex font in plots\n",
    "plt.rcParams['font.serif'] = \"cmr10\"\n",
    "plt.rcParams['font.family'] = \"serif\"\n",
    "plt.rcParams['font.size'] = 24\n",
    "\n",
    "plt.rcParams['legend.fontsize'] = 24\n",
    "plt.rcParams['legend.loc'] = 'upper right'\n",
    "plt.rcParams['axes.labelsize'] = 24\n",
    "plt.rcParams['axes.formatter.use_mathtext'] = True\n",
    "plt.rcParams['xtick.labelsize'] = 24\n",
    "plt.rcParams['ytick.labelsize'] = 24\n",
    "plt.rcParams['text.usetex'] = False\n",
    "plt.rcParams['mathtext.fontset'] = 'cm'\n",
    "plt.rcParams[\"axes.grid\"] = False\n",
    "plt.rcParams['svg.fonttype'] = 'none'\n",
    "plt.rcParams['axes.linewidth'] = 4   # Default for all spines\n",
    "plt.rcParams['axes.spines.top'] = False\n",
    "plt.rcParams['axes.spines.right'] = False\n",
    "# plt.rcParams['text.usetex'] = True\n",
    "plt.rcParams['xtick.major.size'] = 6  # Thicker major x-ticks\n",
    "plt.rcParams['xtick.major.width'] = 2  # Thicker major x-\n",
    "plt.rcParams['ytick.major.size'] = 6  \n",
    "plt.rcParams['ytick.major.width'] = 2 \n",
    "plt.rc('axes', unicode_minus=False)\n"
   ]
  },
  {
   "cell_type": "code",
   "execution_count": null,
   "metadata": {},
   "outputs": [],
   "source": [
    "def load_data(data_path, data_file):\n",
    "    # load data from csv\n",
    "    df = pd.read_csv(os.path.join(data_path, data_file))\n",
    "    return df\n",
    "\n",
    "def compute_profit_eps(df):\n",
    "    # compute profit per episode\n",
    "    N = (df[df['episode'] == 0]).shape[0]\n",
    "    profits_per_episode = df[['Profits', 'episode']].groupby('episode').sum().reset_index()\n",
    "    return profits_per_episode\n",
    "\n",
    "\n",
    "def aggregate_data(df: pd.DataFrame, column: str) -> pd.DataFrame:\n",
    "    \"\"\"\n",
    "    Function that computes statistics for violations and profits per episode.\n",
    "    This function takes in a DataFrame and the name of the column to be used for violations.\n",
    "\n",
    "    Args:\n",
    "    - df: the DataFrame\n",
    "    - column: the name of the column to be used for violations\n",
    "\n",
    "    Returns:\n",
    "    - episode: the episode number\n",
    "    - Profits: the total profits for the episode\n",
    "    - CO2 Violation Time (%): the percentage of time with CO2 violations\n",
    "    - CO2 Violation (ppm): the average magnitude of CO2 violations\n",
    "    \"\"\"\n",
    "    # print(df)\n",
    "    N = (df[df['episode'] == 0]).shape[0]\n",
    "    profits_per_episode = df[['Profits', 'episode']].groupby('episode').sum().reset_index()\n",
    "    # CO2 violation time per episode, considering each row as 5 minutes\n",
    "    co2_violation_time_updated = df[df[column] > 0].groupby('episode').size()/N*100 # % of time with violation\n",
    "    # print(co2_violation_time_updated)\n",
    "    # co2_violation_time_updated = 100-co2_violation_time_updated\n",
    "    # print(co2_violation_time_updated)\n",
    "    # Average magnitude of CO2 violations per episode, for positive violations only\n",
    "    # avg_co2_violation_magnitude_updated = df[[column, 'episode']].groupby('episode')[column].sum()\n",
    "    avg_co2_violation_magnitude_updated = df[df[column] > 0].groupby('episode')[column].mean()\n",
    "    # Combine the updated results into a summary DataFrame\n",
    "    summary_df_updated = pd.DataFrame({\n",
    "        f'Time within boundary (%)': co2_violation_time_updated,\n",
    "        f'{column} (abs)': avg_co2_violation_magnitude_updated,\n",
    "    }).reset_index()\n",
    "\n",
    "    # add coefficient to resulting \n",
    "\n",
    "    # Create a DataFrame of all unique episodes to ensure all are represented\n",
    "    all_episodes_df = pd.DataFrame(df['episode'].unique(), columns=['episode'])\n",
    "\n",
    "    # Merge the summary of violations with the complete list of episodes\n",
    "    # This ensures episodes with no violations are included, filling missing values appropriately\n",
    "    full_summary_df = pd.merge(all_episodes_df, summary_df_updated, on='episode', how='left').fillna(0)\n",
    "    # print(full_summary_df['coefficients'])\n",
    "    full_summary_df = pd.merge(profits_per_episode, full_summary_df, on='episode', how='left').fillna(0)\n",
    "    full_summary_df['Time within boundary (%)'] = 100- full_summary_df['Time within boundary (%)']\n",
    "    return full_summary_df\n",
    "\n",
    "def calculate_twb(dataframes, labels):\n",
    "    twb_df = pd.DataFrame()\n",
    "    twb_df_ci = pd.DataFrame()\n",
    "    N = dataframes[0]['episode'].unique().shape[0]\n",
    "    for j, df in enumerate(dataframes):\n",
    "        vars = ['CO2 violation', 'Temperature violation', 'Humidity violation']\n",
    "        violations = [aggregate_data(df, var) for var in vars]\n",
    "\n",
    "        twb = np.array([violations[i]['Time within boundary (%)'].mean() for i in range(len(vars))])\n",
    "        df_twb = pd.DataFrame({labels[j]: twb,}, index=vars)\n",
    "        twb_df = pd.concat([twb_df, df_twb], axis=1)\n",
    "        \n",
    "        cis = [ci(violations[i]['Time within boundary (%)'].std(), N) for i in range(len(vars))]\n",
    "        df_twb_ci = pd.DataFrame({labels[j]: cis,}, index=vars)\n",
    "        twb_df_ci = pd.concat([twb_df_ci, df_twb_ci], axis=1)\n",
    "    return twb_df.T, twb_df_ci.T\n",
    "\n",
    "\n",
    "\n",
    "def ci(std, n, z=2.576):\n",
    "    return z*std/np.sqrt(n)"
   ]
  },
  {
   "cell_type": "code",
   "execution_count": null,
   "metadata": {},
   "outputs": [],
   "source": [
    "def generate_barplots(dataframes, xlabels, colors):\n",
    "    fig, ax = plt.subplots(dpi=120)\n",
    "    n = dataframes[0].shape[0]  # Assuming all dataframes have the same shape\n",
    "    # colors = [cm.tokyoS(4+i) for i in range(len(dataframes))]\n",
    "    heights = []\n",
    "    errors = []\n",
    "    for i, df in enumerate(dataframes):\n",
    "        heights.append(df['Profits'].mean())\n",
    "        errors.append(ci(df['Profits'].std(), n))\n",
    "    print(heights, errors)\n",
    "    # ax = ax[i] if len(dataframes) > 1 else axes\n",
    "    ax.set_ylabel(r'$r_{0:N}^{\\mathrm{profit}}$')\n",
    "    ax.bar(xlabels, heights, width=0.6, color=colors, edgecolor='black')\n",
    "    ax.errorbar(xlabels, heights, yerr=errors, capsize=5, linestyle='None', color='black', fmt='')\n",
    "\n",
    "    fig.tight_layout()\n",
    "    fig.savefig('profits.svg') \n",
    "    plt.show()\n",
    "\n"
   ]
  },
  {
   "cell_type": "code",
   "execution_count": null,
   "metadata": {},
   "outputs": [],
   "source": [
    "def generate_grouped_bar_plot(twb_df, twb_df_ci, xlabels, colors):\n",
    "    co2color = cm.tokyoS(4)\n",
    "    tcolor = cm.tokyoS(9)\n",
    "    humcolor = cm.tokyoS(6)\n",
    "\n",
    "    fig, ax = plt.subplots(dpi=120)\n",
    "\n",
    "    index = np.arange(len(xlabels))\n",
    "\n",
    "    bar_width = 0.2\n",
    "\n",
    "    bars1 = ax.bar(index - bar_width, twb_df['CO2 violation'], bar_width, edgecolor='black', color=co2color, label=r'CO$_2$')\n",
    "    ax.errorbar(index - bar_width, twb_df['CO2 violation'], yerr=twb_df_ci[\"CO2 violation\"], capsize=5, linestyle='None', color='black', fmt='')\n",
    "\n",
    "    bars2 = ax.bar(index, twb_df['Temperature violation'], bar_width, edgecolor='black', color=tcolor, label='Temperature')\n",
    "    ax.errorbar(index, twb_df['Temperature violation'], yerr=twb_df_ci[\"Temperature violation\"], capsize=5, linestyle='None', color='black', fmt='')\n",
    "\n",
    "    bars3 = ax.bar(index + bar_width, twb_df['Humidity violation'], bar_width, edgecolor='black', color=humcolor, label='Humidity')\n",
    "    ax.errorbar(index + bar_width, twb_df['Humidity violation'], yerr=twb_df_ci[\"Humidity violation\"], capsize=5, linestyle='None', color='black', fmt='')\n",
    "\n",
    "    ax.set_xticks(index)\n",
    "    ax.set_xticklabels(xlabels)\n",
    "    ax.set_ylabel('Time within boundary (%)')\n",
    "    ax.legend()\n",
    "    # ax.legend(bbox_to_anchor=(1.05, 1), loc='upper left')\n",
    "    fig.tight_layout()\n",
    "    fig.savefig('twb.svg')\n",
    "    plt.show()\n"
   ]
  },
  {
   "cell_type": "code",
   "execution_count": null,
   "metadata": {},
   "outputs": [],
   "source": [
    "def plot_avg_day(df, variable, fig, ax, label, linestyle, color, cumsum=False):\n",
    "    Ndays = 600\n",
    "    time_step_means = df.groupby('TimeOfDay')[variable].mean().reset_index()\n",
    "    # time_step_stds = df.groupby('TimeOfDay')[variable].var().reset_index()\n",
    "    time_step_ci = ci(df.groupby('TimeOfDay')[variable].std().values, Ndays)\n",
    "    # Convert 'TimeOfDay' to minutes past midnight for plotting\n",
    "    time_step_means['MinutesPastMidnight'] = time_step_means['TimeOfDay'].apply(lambda t: t.hour + t.minute/60)\n",
    "    time_step_means['MinutesPastMidnight'] \n",
    "    \n",
    "    # Plotting with the modified time format\n",
    "    \n",
    "    if cumsum:\n",
    "        time_step_means[variable] = time_step_means[variable].cumsum()\n",
    "        print(time_step_means[variable].iloc[-1])\n",
    "        time_step_ci\n",
    "    ax.plot(time_step_means['MinutesPastMidnight'], time_step_means[variable], linestyle=linestyle, linewidth=4, color=color, label=label)\n",
    "    ax.fill_between(time_step_means['MinutesPastMidnight'], time_step_means[variable]-time_step_ci, time_step_means[variable]+time_step_ci, color=color, alpha=0.3)\n",
    "\n",
    "\n",
    "    ax.set_xlabel('Hour of the day')\n",
    "    ax.set_ylabel(variable)\n",
    "    ax.set_xticks(np.arange(0, 25, 6))\n",
    "    return fig, ax"
   ]
  },
  {
   "cell_type": "code",
   "execution_count": null,
   "metadata": {},
   "outputs": [],
   "source": [
    "def adjust_time(df):\n",
    "    # compute max fruit harvest\n",
    "    max_fruit_gr = 0.328*1e-6 # kg [DW] m-2 s-1\n",
    "    delta_t = 300\n",
    "    max_fruit_gr *= delta_t\n",
    "    max_fruit_gr\n",
    "\n",
    "    df['Time'] = df['Time'].map(lambda x: str(x)[:-6])\n",
    "    df[\"Fruit harvest norm\"] = df[\"Fruit harvest\"] / max_fruit_gr\n",
    "    df[\"Fruit harvest FW\"] = df[\"Fruit harvest\"] / 0.0627\n",
    "    # df[\"Cumulative Fruit harvest norm\"] = df[\"Fruit harvest norm\"].cumsum()\n",
    "    # df[\"Cumulative Fruit Harvest\"] = df[\"Fruit harvest\"].cumsum()\n",
    "    df['Date'] = pd.to_datetime(df['Time'])\n",
    "    df['TimeOfDay'] = df['Date'].dt.time\n",
    "    return df\n"
   ]
  },
  {
   "cell_type": "code",
   "execution_count": null,
   "metadata": {},
   "outputs": [],
   "source": [
    "\n",
    "# def plot_avg_state(dataframes, labels, variables, colors):\n",
    "#     # nrows = len\n",
    "#     # fig, axes = plt.subplots(1,len(variables), figsize =(16, 8), dpi=120)\n",
    "#     # colors = [cm.tokyoS(4+i) for i in range(len(dataframes))]\n",
    "    \n",
    "#     for j, df in enumerate(dataframes):\n",
    "        \n",
    "#         for i, ax in enumerate(axes):\n",
    "#             plot_avg_day(df, variables[i], fig, ax, labels[j], linestyle='-', color=colors[j])\n",
    "\n",
    "#     # Create the legend\n",
    "#     ax.legend(loc='center left', bbox_to_anchor=(1, 0.5))\n",
    "\n",
    "#     # Adjust the layout to make space for the legend\n",
    "#     plt.subplots_adjust(right=0.8)\n",
    "\n",
    "#     # Show the plot\n",
    "#     # plt.show()\n",
    "        \n",
    "\n",
    "#     fig.tight_layout()\n",
    "#     plt.show()\n"
   ]
  },
  {
   "cell_type": "code",
   "execution_count": null,
   "metadata": {},
   "outputs": [],
   "source": [
    "rl_path =  'data/benchmark/test/multiplicative-0.99'\n",
    "additive_path =  'data/benchmark/test/additive-0.99'\n",
    "\n",
    "multiplicative_pen_df = load_data(rl_path, 'sweet-energy-9-60-best.csv')\n",
    "additive_pen_df = load_data(additive_path, 'helpful-sky-20-60-best.csv')\n",
    "\n",
    "rb_df = load_data('data/benchmark/test/rule-based', 'benchmark-60-last.csv')\n",
    "\n",
    "dfs = [additive_pen_df, multiplicative_pen_df, rb_df]\n",
    "dfs = [adjust_time(df) for df in dfs]\n",
    "\n",
    "xlabels = ['Additive', 'Multiplicative', 'Rule-based']\n",
    "\n",
    "profits_per_episode = [compute_profit_eps(df) for df in dfs]\n",
    "twb_df, twb_df_ci = calculate_twb(dfs, xlabels)\n",
    "\n",
    "twb_df"
   ]
  },
  {
   "cell_type": "code",
   "execution_count": null,
   "metadata": {},
   "outputs": [],
   "source": [
    "normaltest(profits_per_episode[0]['Profits']), normaltest(profits_per_episode[1]['Profits'])"
   ]
  },
  {
   "cell_type": "code",
   "execution_count": null,
   "metadata": {},
   "outputs": [],
   "source": [
    "mannwhitneyu(profits_per_episode[0]['Profits'], profits_per_episode[1]['Profits'], method='exact')"
   ]
  },
  {
   "cell_type": "code",
   "execution_count": null,
   "metadata": {},
   "outputs": [],
   "source": [
    "mannwhitneyu(profits_per_episode[1]['Profits'], profits_per_episode[2]['Profits'], method='exact')"
   ]
  },
  {
   "cell_type": "code",
   "execution_count": null,
   "metadata": {},
   "outputs": [],
   "source": [
    "mannwhitneyu(profits_per_episode[0]['Profits'], profits_per_episode[2]['Profits'], method='exact')\n"
   ]
  },
  {
   "cell_type": "code",
   "execution_count": null,
   "metadata": {},
   "outputs": [],
   "source": [
    "mannwhitneyu(profits_per_episode[1]['Profits'], profits_per_episode[2]['Profits'], method='exact')"
   ]
  },
  {
   "cell_type": "code",
   "execution_count": null,
   "metadata": {},
   "outputs": [],
   "source": [
    "# colors= [cm.tokyoS(4), cm.tokyoS(5), cm.tokyoS(6)]\n",
    "# print(profits_per_episode[0].shape, profits_per_episode[1].shape)\n",
    "colors = [cm.tokyoS(4), cm.tokyoS(6), cm.tokyoS(9)]\n",
    "generate_barplots(profits_per_episode, xlabels,colors)\n",
    "generate_grouped_bar_plot(twb_df, twb_df_ci, xlabels, colors)"
   ]
  },
  {
   "cell_type": "code",
   "execution_count": null,
   "metadata": {},
   "outputs": [],
   "source": [
    "ttest_ind(profits_per_episode[0]['Profits'], profits_per_episode[1]['Profits'])"
   ]
  },
  {
   "cell_type": "code",
   "execution_count": null,
   "metadata": {},
   "outputs": [],
   "source": [
    "# colors= [cm.tokyoS(4), cm.tokyoS(5), cm.tokyoS(6)]\n",
    "# print(profits_per_episode[0].shape, profits_per_episode[1].shape)\n",
    "colors = [cm.tokyoS(4), cm.tokyoS(6), cm.tokyoS(9)]\n",
    "generate_barplots(profits_per_episode, xlabels,colors)\n",
    "generate_grouped_bar_plot(twb_df, twb_df_ci, xlabels, colors)"
   ]
  },
  {
   "cell_type": "code",
   "execution_count": null,
   "metadata": {},
   "outputs": [],
   "source": [
    "twb_df, twb_df_ci"
   ]
  },
  {
   "cell_type": "code",
   "execution_count": null,
   "metadata": {},
   "outputs": [],
   "source": [
    "twb_df"
   ]
  },
  {
   "cell_type": "code",
   "execution_count": null,
   "metadata": {},
   "outputs": [],
   "source": [
    "twb_df_ci\n"
   ]
  },
  {
   "cell_type": "code",
   "execution_count": null,
   "metadata": {},
   "outputs": [],
   "source": [
    "state_variables = ['Air Temperature', 'CO2 concentration', 'Humidity', 'Fruit harvest FW']\n",
    "labels = ['Additive', 'Multiplicative', 'Rule-based']\n",
    "ylabels = [r'Temperature ($^\\circ$C)', '$\\mathrm{CO_2}$ (ppm)', '$\\mathrm{RH}}$ (%)', 'Fruit harvest (kg/m$^2$)']\n",
    "ylim = [(16, 26), (500, 800), (60, 100), (0, 0.3)]\n",
    "for i, variable in enumerate(state_variables):\n",
    "    fig, ax = plt.subplots(dpi=120)\n",
    "    if 'Fruit' in variable:\n",
    "        plot_avg_day(dfs[0], variable, fig, ax, labels[0], '-', colors[0], cumsum=True)\n",
    "        plot_avg_day(dfs[1], variable, fig, ax, labels[1], '-', colors[1], cumsum=True)\n",
    "        plot_avg_day(dfs[2], variable, fig, ax, labels[2], '-', colors[2], cumsum=True)\n",
    "    else:\n",
    "        plot_avg_day(dfs[0], variable, fig, ax, labels[0], '-', colors[0])\n",
    "        plot_avg_day(dfs[1], variable, fig, ax, labels[1], '-', colors[1])\n",
    "        plot_avg_day(dfs[2], variable, fig, ax, labels[2], '-', colors[2])\n",
    "    ax.set_ylabel(ylabels[i])\n",
    "    ax.set_ylim(ylim[i])\n",
    "    fig.savefig(f'../figures/24h-mean-{variable}-2.svg', format='svg')\n",
    "ax.legend()\n",
    "\n",
    "fig.savefig(f'../figures/24h-mean-{variable}-2.svg', format='svg')\n"
   ]
  },
  {
   "cell_type": "code",
   "execution_count": null,
   "metadata": {},
   "outputs": [],
   "source": [
    "rlhar = 0.25661656214864836\n",
    "rbhar = 0.26912746541713334\n",
    "rbhar-rlhar"
   ]
  },
  {
   "cell_type": "code",
   "execution_count": null,
   "metadata": {},
   "outputs": [],
   "source": [
    "control_variables= ['uCO2', 'uBoil', 'uVent', 'uThScr']\n",
    "labels = ['Additive', 'Multiplicative', 'Rule-based']\n",
    "ylabels = ['$u_{\\mathrm{CO_2}}$', '$u_{\\mathrm{boil}}$ (ppm)', '$u_{\\mathrm{vent}}$ (%)', '$u_{\\mathrm{thScr}}$ (%)']\n",
    "for i, variable in enumerate(control_variables):\n",
    "    fig, ax = plt.subplots(dpi=120)\n",
    "    plot_avg_day(dfs[0], variable, fig, ax, labels[0], '-', colors[0])\n",
    "    plot_avg_day(dfs[1], variable, fig, ax, labels[1], '-', colors[1])\n",
    "    plot_avg_day(dfs[2], variable, fig, ax, labels[2], '-', colors[2])\n",
    "    ax.set_ylabel(ylabels[i])\n",
    "    ax.set_ylim(0, 1)\n",
    "    fig.savefig(f'../figures/24h-mean-{variable}-2.svg', format='svg')\n",
    "ax.legend()\n",
    "fig.savefig(f'../figures/24h-mean-{variable}-2.svg', format='svg')\n"
   ]
  },
  {
   "cell_type": "code",
   "execution_count": null,
   "metadata": {},
   "outputs": [],
   "source": [
    "def calc_svp(temp):\n",
    "    return 610.78*np.exp(17.2694*temp/(temp+238.3))\n",
    "\n",
    "\n",
    "def calc_vpd(svp, rh):\n",
    "    return svp * (1 - rh/100)\n",
    "\n",
    "def sort_runs_by_profit(profits_per_episode):\n",
    "    return [df.sort_values(by='Profits', ascending=False) for df in profits_per_episode]"
   ]
  },
  {
   "cell_type": "code",
   "execution_count": null,
   "metadata": {},
   "outputs": [],
   "source": [
    "def compute_seasonal_profits(df):\n",
    "    df['Date'] = pd.to_datetime(df['Time'])\n",
    "    df['Month'] = df['Date'].dt.month\n",
    "    # convert numeric months to string\n",
    "    df['Cumulative profit'] = df.groupby('episode')['Profits'].cumsum()\n",
    "\n",
    "    # extract final profit for each episode\n",
    "    final_profits = df.groupby('episode')[['Cumulative profit', 'Month', 'Date']].last().reset_index()\n",
    "    \n",
    "    seasonal_profits = final_profits.groupby(['Month'])['Cumulative profit'].mean()\n",
    "    # print(seasonal_profits)\n",
    "    seasonal_std = final_profits.groupby(['Month'])['Cumulative profit'].std()\n",
    "    seasonality = pd.DataFrame({'Mean': seasonal_profits, 'Std': seasonal_std})\n",
    "\n",
    "    # seasonality.reset_index(inplace=True, drop=False)\n",
    "    # convert month column as string type\n",
    "\n",
    "    seasonality.reset_index(inplace=True, drop=False)\n",
    "    seasonality['Month'] = pd.to_datetime(seasonality['Month'], format='%m').dt.month_name().str.slice(stop=3)\n",
    "    return seasonality\n"
   ]
  },
  {
   "cell_type": "code",
   "execution_count": null,
   "metadata": {
    "tags": []
   },
   "outputs": [],
   "source": [
    "seasonality = compute_seasonal_profits(dfs[0])\n",
    "seasonality_rb = compute_seasonal_profits(dfs[1])\n"
   ]
  },
  {
   "cell_type": "code",
   "execution_count": null,
   "metadata": {},
   "outputs": [],
   "source": [
    "seasonality"
   ]
  },
  {
   "cell_type": "code",
   "execution_count": null,
   "metadata": {},
   "outputs": [],
   "source": [
    "seasonality_rb"
   ]
  },
  {
   "cell_type": "code",
   "execution_count": null,
   "metadata": {},
   "outputs": [],
   "source": [
    "\n",
    "\n",
    "fig, ax = plt.subplots(dpi=120)\n",
    "bar_width = 0.4\n",
    "ax.bar(seasonality.index-bar_width/2, seasonality['Mean'], yerr=seasonality['Std'], width=bar_width, capsize=5, color=colors[0], label='RL', edgecolor='black')\n",
    "ax.bar(seasonality_rb.index+bar_width/2, seasonality_rb['Mean'], yerr=seasonality_rb['Std'], width=bar_width, capsize=5, color=colors[1], label='Rule-based', edgecolor='black')\n",
    "\n",
    "ax.set_ylabel(r'$r_{T}^{\\mathrm{profit}}$')\n",
    "# set xticks to month\n",
    "ax.set_xticks(seasonality.index)\n",
    "ax.set_xticklabels(seasonality['Month'], ha='center')\n",
    "\n",
    "\n",
    "\n",
    "\n",
    "# ax.legend()\n",
    "# create a list of months\n",
    "fig.savefig('../figures/seasonal-profits.svg', format='svg')\n"
   ]
  },
  {
   "cell_type": "code",
   "execution_count": null,
   "metadata": {},
   "outputs": [],
   "source": [
    "sorted_multi  = profits_per_episode[0].sort_values(by='Profits', ascending=False)\n",
    "sorted_rb  = profits_per_episode[1].sort_values(by='Profits', ascending=False)\n",
    "\n",
    "sorted_multi#"
   ]
  },
  {
   "cell_type": "code",
   "execution_count": null,
   "metadata": {},
   "outputs": [],
   "source": [
    "sorted_rb"
   ]
  },
  {
   "cell_type": "code",
   "execution_count": null,
   "metadata": {},
   "outputs": [],
   "source": []
  },
  {
   "cell_type": "code",
   "execution_count": null,
   "metadata": {},
   "outputs": [],
   "source": [
    "episode = 0\n",
    "\n",
    "rl_df = dfs[0]\n",
    "rb_df = dfs[1]\n",
    "\n",
    "fig = plt.figure(figsize=(10, 20))\n",
    "ax1 = fig.add_subplot(811)\n",
    "ax2 = fig.add_subplot(812)\n",
    "ax3 = fig.add_subplot(813)\n",
    "ax4 = fig.add_subplot(814)\n",
    "ax5 = fig.add_subplot(815)\n",
    "ax6 = fig.add_subplot(816)\n",
    "ax7 = fig.add_subplot(817)\n",
    "ax8 = fig.add_subplot(818)\n",
    "\n",
    "rl_df[rl_df['episode'] == episode].plot(x='Time', y='Air Temperature', kind='line', color=colors[0], ax=ax1, label='RL')\n",
    "rb_df[rb_df['episode'] == episode].plot(x='Time', y='Air Temperature', kind='line', color=colors[1], ax=ax1, label='Rule-based')\n",
    "ax1.set_ylabel('Air Temperature')\n",
    "\n",
    "rl_df[rl_df['episode'] == episode].plot(x='Time', y='uVent', kind='line', color=colors[0], ax=ax2, label='RL')\n",
    "rb_df[rb_df['episode'] == episode].plot(x='Time', y='uVent', kind='line', color=colors[1], ax=ax2, label='Rule-based')\n",
    "ax2.set_ylabel('Vent')\n",
    "\n",
    "rl_df[rl_df['episode'] == episode].plot(x='Time', y='uBoil', kind='line', color=colors[0], ax=ax3, label='RL')\n",
    "rb_df[rb_df['episode'] == episode].plot(x='Time', y='uBoil', kind='line', color=colors[1], ax=ax3, label='Rule-based')\n",
    "ax3.set_ylabel('Boil')\n",
    "\n",
    "rl_df[rl_df['episode'] == episode].plot(x='Time', y='uThScr', kind='line', color=colors[0], ax=ax4, label='RL')\n",
    "rb_df[rb_df['episode'] == episode].plot(x='Time', y='uThScr', kind='line', color=colors[1], ax=ax4, label='Rule-based')\n",
    "ax4.set_ylabel('Thermal Screen')\n",
    "\n",
    "rl_df[rl_df['episode'] == episode].plot(x='Time', y='uLamp', kind='line', color=colors[0], ax=ax5, label='RL')\n",
    "rb_df[rb_df['episode'] == episode].plot(x='Time', y='uLamp', kind='line', color=colors[1], ax=ax5, label='Rule-based')\n",
    "ax5.set_ylabel('Lamp')\n",
    "\n",
    "\n",
    "rl_df[rl_df['episode'] == episode].plot(x='Time', y='uCO2', kind='line', color=colors[0], ax=ax6, label='RL')\n",
    "rb_df[rb_df['episode'] == episode].plot(x='Time', y='uCO2', kind='line', color=colors[1], ax=ax6, label='Rule-based')\n",
    "ax6.set_ylabel('CO2')\n",
    "\n",
    "rl_df[rl_df['episode'] == episode].plot(x='Time', y='PAR', kind='line', color=colors[0], ax=ax7, label='RL')\n",
    "rb_df[rb_df['episode'] == episode].plot(x='Time', y='PAR', kind='line', color=colors[1], ax=ax7, label='Rule-based')\n",
    "ax7.set_ylabel('PAR')\n",
    "\n",
    "\n",
    "rl_df[rl_df['episode'] == episode].plot(x='Time', y='Humidity', kind='line', color=colors[0], ax=ax8, label='Rule-based')\n",
    "rb_df[rb_df['episode'] == episode].plot(x='Time', y='Humidity', kind='line', color=colors[1], ax=ax8, label='RL')\n",
    "ax8.set_ylabel('RH')\n",
    "\n",
    "\n",
    "# rl_df[rl_df['episode'] == episode].plot(x='Time', y='uCO2', kind='line', color=colors[0], ax=ax6, label='Rule-based')\n",
    "# rb_df[rb_df['episode'] == episode].plot(x='Time', y='uCO2', kind='line', color=colors[0], ax=ax6, label='RL')\n",
    "\n",
    "# remove x ticks from axis\n",
    "ax1.set_xticks([])\n",
    "ax2.set_xticks([])\n",
    "ax3.set_xticks([])\n",
    "ax4.set_xticks([])\n",
    "ax5.set_xticks([])\n",
    "ax6.set_xticks([])\n",
    "ax7.set_xticks([])\n",
    "# skip legend\n",
    "ax1.legend().remove()\n",
    "ax2.legend().remove()\n",
    "ax3.legend().remove()\n",
    "ax4.legend().remove()\n",
    "ax5.legend().remove()\n",
    "ax6.legend().remove()\n",
    "ax7.legend().remove()\n",
    "# ax8.legend().remove()\n",
    "\n",
    "# rotate x labels\n",
    "ax8.set_xticklabels(ax8.get_xticklabels(), rotation=45, horizontalalignment='right')\n",
    "plt.show()\n",
    "# rl_df[rl_df['episode'] == episode].plot(x='Time', y='Air Temperature', kind='scatter', colormap='viridis', c=rl_df[rl_df['episode'] == episode]['Fruit harvest norm'], ax=ax)\n",
    "# rb_df[rb_df['episode'] == episode].plot(x='Time', y='Fruit weight', kind='scatter', colormap='viridis', c=rb_df[rb_df['episode'] == episode]['Fruit harvest norm'], ax=ax)\n"
   ]
  },
  {
   "cell_type": "code",
   "execution_count": null,
   "metadata": {},
   "outputs": [],
   "source": [
    "fig, axes = plt.subplots(1,4 , figsize=(20, 5), dpi=120)\n",
    "rb_df['Cumulative Profit'] = rb_df.groupby('episode')['Profits'].cumsum()\n",
    "rl_df['Cumulative Profit'] = rl_df.groupby('episode')['Profits'].cumsum()\n",
    "\n",
    "rb_df['Cumulative Harvest'] = rb_df.groupby('episode')['Fruit harvest'].cumsum()\n",
    "rl_df['Cumulative Harvest'] = rl_df.groupby('episode')['Fruit harvest'].cumsum()\n",
    "\n",
    "rb_df['Cumulative co2'] = rb_df.groupby('episode')['CO2 resource'].cumsum()\n",
    "rl_df['Cumulative co2'] = rl_df.groupby('episode')['CO2 resource'].cumsum()\n",
    "\n",
    "rb_df['Cumulative gas'] = rb_df.groupby('episode')['Gas resource'].cumsum()\n",
    "rl_df['Cumulative gas'] = rl_df.groupby('episode')['Gas resource'].cumsum()\n",
    "\n",
    "\n",
    "# episode=9\n",
    "\n",
    "cumulatives = ['Cumulative Profit', 'Cumulative Harvest', 'Cumulative co2', 'Cumulative gas']\n",
    "\n",
    "for i, cost in enumerate(cumulatives):\n",
    "    rl_df[rl_df['episode'] == episode].plot(x='Time', y=cumulatives[i], kind='line', color=colors[0],ax=axes[i], label='RL')\n",
    "    rb_df[rb_df['episode'] == episode].plot(x='Time', y=cumulatives[i], kind='line', color=colors[1], ax=axes[i], label='Rule-based')\n",
    "    axes[i].set_ylabel(cost)\n",
    "    axes[i].legend().remove()\n",
    "    axes[i].set_xticklabels(axes[i].get_xticklabels(), rotation=45)\n",
    "\n"
   ]
  },
  {
   "cell_type": "code",
   "execution_count": null,
   "metadata": {},
   "outputs": [],
   "source": [
    "rl_df[rl_df['Air Temperature'] <= 10]\n",
    "\n",
    "rl_df[rl_df['Temperature violation'] > 0]\n"
   ]
  },
  {
   "cell_type": "code",
   "execution_count": null,
   "metadata": {},
   "outputs": [],
   "source": [
    "# compute cumulative sum of harvest per episode\n",
    "cumulative_harvest_rb = rb_df[['Fruit harvest', 'episode']].groupby('episode').sum().reset_index()\n",
    "cumulative_harvest_rl = rl_df[['Fruit harvest', 'episode']].groupby('episode').sum().reset_index()\n",
    "\n",
    "fig, ax = plt.subplots(dpi=120)\n",
    "n = rb_df_profit.shape[0]\n",
    "ax.plot(cumulative_harvest_rb['episode'], cumulative_harvest_rb['Fruit harvest'], label='Rule-based', color=tcolor)\n",
    "ax.plot(cumulative_harvest_rl['episode'], cumulative_harvest_rl['Fruit harvest'], label='Rule-based', color=humcolor, linestyle='--')"
   ]
  },
  {
   "cell_type": "code",
   "execution_count": null,
   "metadata": {},
   "outputs": [],
   "source": [
    "episode = 0\n",
    "fig, ax = plt.subplots(figsize=(10, 10), dpi=120)\n",
    "rb_df[rb_df['episode'] == episode].plot(x='Time', y='PAR', kind='scatter', colormap='viridis', c=rb_df[rb_df['episode'] == episode]['Fruit harvest norm'], ax=ax)\n",
    "# rl_df[rl_df['episode'] == episode].plot(x='Time', y='PAR', kind='scatter', colormap='viridis', c=rl_df[rl_df['episode'] == episode]['Fruit harvest norm'])\n"
   ]
  },
  {
   "cell_type": "code",
   "execution_count": null,
   "metadata": {},
   "outputs": [],
   "source": [
    "fig, ax = plt.subplots(figsize=(10, 10), dpi=120)\n",
    "df[df['episode'] == episode].plot(x='Time', y='uCO2', kind='scatter', colormap='viridis', c=df[df['episode'] == episode]['Fruit harvest norm'], ax=ax)\n",
    "rl_df[rl_df['episode'] == episode].plot(x='Time', y='uCO2', kind='scatter', colormap='viridis', c=rl_df[rl_df['episode'] == episode]['Fruit harvest norm'])\n"
   ]
  },
  {
   "cell_type": "code",
   "execution_count": null,
   "metadata": {},
   "outputs": [],
   "source": [
    "\n",
    "plt.plot(df[df['episode'] == episode]['Fruit harvest norm'])\n",
    "\n",
    "plt.ylim(0.7,1)\n"
   ]
  },
  {
   "cell_type": "code",
   "execution_count": null,
   "metadata": {},
   "outputs": [],
   "source": []
  }
 ],
 "metadata": {
  "kernelspec": {
   "display_name": "greenlight_gym",
   "language": "python",
   "name": "python3"
  },
  "language_info": {
   "codemirror_mode": {
    "name": "ipython",
    "version": 3
   },
   "file_extension": ".py",
   "mimetype": "text/x-python",
   "name": "python",
   "nbconvert_exporter": "python",
   "pygments_lexer": "ipython3",
   "version": "3.11.0"
  }
 },
 "nbformat": 4,
 "nbformat_minor": 2
}
